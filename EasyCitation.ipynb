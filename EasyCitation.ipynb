{
 "cells": [
  {
   "cell_type": "markdown",
   "id": "28254a72-2aba-4e29-8d0c-2fc186434904",
   "metadata": {},
   "source": [
    "# This notebook supports calculating non-self citations based on [scholarly](https://github.com/scholarly-python-package/scholarly)\n",
    "\n",
    "* You probably need a SCRAPER_API_KEY as google scholar limits the query traffic from each end user\n",
    "* The scholarly API returns partial information of each publication in default and we need to call the function of 'fill' to add additional information necessary for citation calculation   "
   ]
  },
  {
   "cell_type": "code",
   "execution_count": null,
   "id": "e44d0ced-e9bd-4a50-a785-6fb6fcced91d",
   "metadata": {},
   "outputs": [],
   "source": [
    "from scholarly import scholarly, ProxyGenerator\n",
    "from tqdm import tqdm\n",
    "import pandas as pd\n",
    "import os\n",
    "import json\n",
    "from collections import defaultdict"
   ]
  },
  {
   "cell_type": "code",
   "execution_count": null,
   "id": "2880705a-5e7a-4711-be0b-9ba8eae748e8",
   "metadata": {},
   "outputs": [],
   "source": [
    "# Optional but probably you'll need it\n",
    "SCRAPER_API_KEY = ''\n",
    "pg = ProxyGenerator()\n",
    "success = pg.ScraperAPI(SCRAPER_API_KEY)\n",
    "scholarly.use_proxy(pg)"
   ]
  },
  {
   "cell_type": "code",
   "execution_count": null,
   "id": "af1d8d84-6eec-4a1a-b098-d5c6f3ce72a3",
   "metadata": {},
   "outputs": [],
   "source": [
    "BASE_DIR = '/Users/XXX/XXX/GreenCard/citations' # Path Saving Publication Information"
   ]
  },
  {
   "cell_type": "code",
   "execution_count": null,
   "id": "6fed7130-97a9-4927-8e94-55169c959f62",
   "metadata": {},
   "outputs": [],
   "source": [
    "DB_PUBS = defaultdict(dict) # All pubs (including my pubs and papers cited my pubs)\n",
    "DB_PUBS_PATH = os.path.join(BASE_DIR, 'DB_PUBS.json')  \n",
    "\n",
    "DB_MY_PUBS = defaultdict(dict) # My pubs\n",
    "DB_MY_PUBS_PATH = os.path.join(BASE_DIR, 'DB_MY_PUBS.json') \n",
    "\n",
    "DB_CITE = defaultdict(dict) # The citation relationship between pubs (key: pub; value: papers cited this pub)\n",
    "DB_CITE_PATH = os.path.join(BASE_DIR, 'DB_CITE.json') "
   ]
  },
  {
   "cell_type": "markdown",
   "id": "faaa607a-42fb-4b8e-bdbc-15cce4eec08d",
   "metadata": {},
   "source": [
    "# Utilities"
   ]
  },
  {
   "cell_type": "code",
   "execution_count": null,
   "id": "b91f2d56-c465-492e-b545-afa7d6391c45",
   "metadata": {},
   "outputs": [],
   "source": [
    "# get all pubs based on author_id\n",
    "def get_all_pubs(author_id=''):\n",
    "    me = scholarly.search_author_id(author_id)\n",
    "    me = scholarly.fill(me)\n",
    "    my_pubs = me['publications']\n",
    "    my_pubs = [scholarly.fill(pub) for pub in tqdm(my_pubs)]\n",
    "    return my_pubs\n",
    "\n",
    "\n",
    "def save_pubs_to_db(pubs, db=DB_PUBS):\n",
    "    for pub in pubs:\n",
    "        title = pub['bib']['title']\n",
    "        if title in DB_PUBS:\n",
    "            continue\n",
    "        db[title] = pub\n",
    "\n",
    "        \n",
    "def dump_db(db=DB_PUBS, path=DB_PUBS_PATH):\n",
    "    with open(path, 'w') as f:\n",
    "        f.write(json.dumps(db))\n",
    "\n",
    "\n",
    "def dump_all_db():\n",
    "    with open(DB_PUBS_PATH, 'w') as f:\n",
    "        f.write(json.dumps(DB_PUBS))\n",
    "    with open(DB_MY_PUBS_PATH, 'w') as f:\n",
    "        f.write(json.dumps(DB_MY_PUBS))\n",
    "    with open(DB_CITE_PATH, 'w') as f:\n",
    "        f.write(json.dumps(DB_CITE))\n",
    "\n",
    "\n",
    "def load_all_db():\n",
    "    global DB_PUBS\n",
    "    global DB_MY_PUBS\n",
    "    global DB_CITE\n",
    "\n",
    "    if os.path.exists(DB_PUBS_PATH):\n",
    "        with open(DB_PUBS_PATH, 'r') as f:\n",
    "            DB_PUBS = json.loads(f.read())\n",
    "            \n",
    "    if os.path.exists(DB_MY_PUBS_PATH):\n",
    "        with open(DB_MY_PUBS_PATH, 'r') as f:\n",
    "            DB_MY_PUBS = json.loads(f.read())\n",
    "\n",
    "    if os.path.exists(DB_CITE_PATH):\n",
    "        with open(DB_CITE_PATH, 'r') as f:\n",
    "            DB_CITE = json.loads(f.read())\n",
    "\n",
    "\n",
    "def fill_db(db):\n",
    "    titles = list(db.keys())\n",
    "    for t in tqdm(titles):\n",
    "        pub = db[t]\n",
    "        if not pub['filled']:\n",
    "            db[t] = scholarly.fill(pub)\n",
    "\n",
    "\n",
    "def get_authors(pub) -> list:\n",
    "    authors = pub['bib']['author'].split(' and ')\n",
    "    return [get_normalized_name(author) for author in authors]\n",
    "\n",
    "\n",
    "def get_normalized_name(name):\n",
    "    parts = [p.strip() for p in name.split(',')]\n",
    "    name = ' '.join(reversed(parts))\n",
    "    return name\n",
    "\n",
    "\n",
    "def get_common_authors(authors1, authors2) -> list:\n",
    "    common_authors = set(authors1) & set(authors2)\n",
    "    return list(common_authors)\n",
    "\n",
    "\n",
    "def get_publish_info(bib):\n",
    "    if 'citation' in bib:\n",
    "        return bib['citation']\n",
    "    if 'journal' in bib:\n",
    "        return bib['journal']\n",
    "    if 'conference' in bib:\n",
    "        return bib['conference']\n",
    "    if 'booktitle' in bib:\n",
    "        return bib['booktitle']\n",
    "    if 'venue' in bib:\n",
    "        return bib['venue']\n",
    "    return 'NA'\n",
    "\n",
    "\n",
    "def analyze_non_self_citation(pub):\n",
    "    title = pub['bib']['title']\n",
    "    filled_pub = DB_PUBS[title]\n",
    "    citations = DB_CITE[title]\n",
    "    citations_title = [c['bib']['title'] for c in citations]\n",
    "    filled_citations = [DB_PUBS[t] for t in citations_title if t in DB_PUBS]\n",
    "\n",
    "    count_valid_citations = 0\n",
    "    df = pd.DataFrame({'title': [], 'authors':[], 'citation':[], 'year':[], 'self-citation':[], 'common_authors':[]})\n",
    "\n",
    "    pub_authors = get_authors(filled_pub)\n",
    "    for citation in tqdm(filled_citations):\n",
    "        citation_authors = get_authors(citation)\n",
    "        common_authors = get_common_authors(pub_authors, citation_authors)\n",
    "        self_citation = 0 if len(common_authors) == 0 else 1\n",
    "        count_valid_citations += 0 if self_citation else 1\n",
    "        df.loc[len(df.index)] = [citation['bib']['title'],\n",
    "                                 ';'.join(citation_authors),\n",
    "                                 get_publish_info(citation['bib']),\n",
    "                                 citation['bib']['pub_year'],\n",
    "                                 self_citation,\n",
    "                                 ','.join(common_authors)]\n",
    "\n",
    "    # df.sort_values('year', ascending=False, inplace=True)\n",
    "    return count_valid_citations, df\n"
   ]
  },
  {
   "cell_type": "markdown",
   "id": "28776735-7aa7-4ec2-84db-ae72b3e91366",
   "metadata": {},
   "source": [
    "# Download Publication and Citation Data"
   ]
  },
  {
   "cell_type": "code",
   "execution_count": null,
   "id": "ed656c0a-d68f-4a66-88d5-9bc445f57149",
   "metadata": {},
   "outputs": [],
   "source": [
    "load_all_db()\n",
    "print(len(DB_MY_PUBS))"
   ]
  },
  {
   "cell_type": "code",
   "execution_count": null,
   "id": "e0885e74-5516-4f7b-888e-da948da293ae",
   "metadata": {
    "scrolled": true
   },
   "outputs": [],
   "source": [
    "# 1. Get all my pubs and save to DB\n",
    "gscholar_id = ''\n",
    "if len(DB_MY_PUBS.keys()) > 0:\n",
    "    print('Load Data')\n",
    "    my_pubs = list(DB_MY_PUBS.values())\n",
    "else:\n",
    "    print('Empty DB -> Create My Pubs)')\n",
    "    my_pubs = get_all_pubs(gscholar_id)\n",
    "    save_pubs_to_db(my_pubs, DB_PUBS)\n",
    "    save_pubs_to_db(my_pubs, DB_MY_PUBS)\n",
    "    dump_all_db()"
   ]
  },
  {
   "cell_type": "code",
   "execution_count": null,
   "id": "67c3640a-4d66-4a8b-b064-eed7f15cc3ca",
   "metadata": {
    "scrolled": true
   },
   "outputs": [],
   "source": [
    "# 2. Get all citations and save citations to DB\n",
    "for pub in tqdm(my_pubs):\n",
    "    # print(pub)\n",
    "    if 'citedby_url' in pub:\n",
    "        citations = list(scholarly.citedby(pub))\n",
    "        save_pubs_to_db(citations)\n",
    "        title = pub['bib']['title']\n",
    "        DB_CITE[title] = citations\n",
    "\n",
    "dump_all_db()"
   ]
  },
  {
   "cell_type": "code",
   "execution_count": null,
   "id": "8705d610-7d42-4db7-a11e-79ea8b98922f",
   "metadata": {},
   "outputs": [],
   "source": [
    "# 3. Fill all papers with details\n",
    "DB_PUBS_filled = [1 if pub['filled'] else 0 for pub in DB_PUBS.values()]\n",
    "print('Currently, %d papers are filled among %d all papers' % (sum(DB_PUBS_filled), len(DB_PUBS)))\n",
    "\n",
    "fill_db(DB_PUBS)\n",
    "dump_db(DB_PUBS, DB_PUBS_PATH)"
   ]
  },
  {
   "cell_type": "markdown",
   "id": "06e4b835-07ec-42ad-b9b8-6c59e5c9007b",
   "metadata": {},
   "source": [
    "# Compute Non-Self Citation"
   ]
  },
  {
   "cell_type": "code",
   "execution_count": null,
   "id": "a76978e1-513e-4c65-bbc6-fb1e8fbc57a9",
   "metadata": {},
   "outputs": [],
   "source": [
    "cnt_sum = 0\n",
    "for i in range(len(my_pubs)):\n",
    "    cnt_cite, df = analyze_non_self_citation(my_pubs[i])\n",
    "    cnt_sum += cnt_cite"
   ]
  },
  {
   "cell_type": "code",
   "execution_count": null,
   "id": "d51aa6f4-b6af-483e-82a4-a6f1abc6c887",
   "metadata": {},
   "outputs": [],
   "source": [
    "print('Total Number of Non-Self Citations :',cnt_sum)"
   ]
  }
 ],
 "metadata": {
  "kernelspec": {
   "display_name": "Python 3 (ipykernel)",
   "language": "python",
   "name": "python3"
  },
  "language_info": {
   "codemirror_mode": {
    "name": "ipython",
    "version": 3
   },
   "file_extension": ".py",
   "mimetype": "text/x-python",
   "name": "python",
   "nbconvert_exporter": "python",
   "pygments_lexer": "ipython3",
   "version": "3.9.13"
  }
 },
 "nbformat": 4,
 "nbformat_minor": 5
}
